{
  "cells": [
    {
      "cell_type": "markdown",
      "metadata": {
        "id": "view-in-github",
        "colab_type": "text"
      },
      "source": [
        "<a href=\"https://colab.research.google.com/github/DionesGouvea/Identificacao-de-fraudes/blob/main/Identificacao_de_fraudes.ipynb\" target=\"_parent\"><img src=\"https://colab.research.google.com/assets/colab-badge.svg\" alt=\"Open In Colab\"/></a>"
      ]
    },
    {
      "cell_type": "markdown",
      "metadata": {
        "id": "_LckjSuJP3AK"
      },
      "source": [
        "\n",
        "## Contexto analíico\n",
        "O banco xxxxxxx quer diminuir os casos de fraudes em suas transações bancárias atualmente o banco conta com um algoritimo que não identifica a maioria das operações fraudulentas, gerando grandes percas.\n",
        "\n",
        "**Objetivo 1:** entregar um modelo que identifique o maior número de casos de fraude e que tenha o melhor trade off possível entre transações reais x fraudes. \n",
        "\n",
        "Além de ter um modelo que identifique as fraudes é preciso que ele realize inferencias no menor tempo possível.\n",
        "\n",
        "**Objetivo 2** Aplicar o uso de GPU para o modelo em busca de um tempo de inferência menor.  "
      ]
    },
    {
      "cell_type": "markdown",
      "metadata": {
        "id": "rSla0PaKFVLR"
      },
      "source": [
        "##Dados\n",
        "\n",
        "O conjunto de dados é uma simulação feita com base em uma amostra de transações reais, extraidas de um mês de registros financeiros de um serviço de dinheiro movel implementado em um pais africano. Os registros originais foram fornecidos por uma empresa multinacional, que é a provedora do serviço financeiro móvel que atualmente está sendo executado em mais de 14 países em todo o mundo.\n",
        "\n",
        "Para saber mais como esses dados foram gerados e também um entendimento melhor sobre suas variaveis pode se ler este artigo [PAYSIM: UM SIMULADOR DE DINHEIRO MÓVEL FINANCEIRO PARA DETECÇÃO DE FRAUDES](https://www.researchgate.net/publication/313138956_PAYSIM_A_FINANCIAL_MOBILE_MONEY_SIMULATOR_FOR_FRAUD_DETECTION)"
      ]
    },
    {
      "cell_type": "markdown",
      "metadata": {
        "id": "_prpuTBgGGhR"
      },
      "source": [
        "Features:\n",
        "- **step** - representa o total de horas transcorrido desde o início da simulação. Esta feature vai variar entre 1 e 744 (30 dias);\n",
        "\n",
        "- **type** - Tipo: tipo de transação (depósito, saque, débito, pagamento e transferência);\n",
        "\n",
        "- **amount** - total que foi transacionado;\n",
        "\n",
        "- **nameOrig** - cliente que iniciou a transação\n",
        "\n",
        "- **oldbalanceOrg** - saldo da conta de origem antes da transação;\n",
        "\n",
        "- **newbalanceOrig** - saldo da conta de origem após a transação;\n",
        "\n",
        "- **nameDest** - cliente de destino da transação;\n",
        "\n",
        "- **oldbalanceDest** - saldo da conta de destino antes da transação;\n",
        "\n",
        "- **newbalanceDest** - saldo da conta de destino após a transação;\n",
        "\n",
        "- **isFraud** - flag que define se a transação é fraudulenta ou não. Nesta simulação o objetivo da fraude é assumir a conta do usuário, esvaziá-la transferindo para outra conta e então sacando o dinheiro.\n",
        "\n",
        "- **isFlaggedFraud** - automaticamente marcadas pelo banco como fraude por tentarem transferir mais de 200.000 em uma única transação."
      ]
    },
    {
      "cell_type": "markdown",
      "metadata": {
        "id": "qfnjcnSIj6qi"
      },
      "source": [
        "## 1. Importando os Dados\n"
      ]
    },
    {
      "cell_type": "code",
      "execution_count": 39,
      "metadata": {
        "id": "mWNpEtG1FuUZ"
      },
      "outputs": [],
      "source": [
        "import pandas as pd\n",
        "import matplotlib.pyplot as plt\n",
        "import seaborn as sns \n",
        "import numpy as np\n",
        "\n",
        "\n",
        "from sklearn.ensemble import RandomForestClassifier\n",
        "from sklearn.linear_model import LogisticRegression\n",
        "from xgboost import XGBClassifier\n",
        "from sklearn.model_selection import train_test_split \n",
        "from sklearn.metrics import classification_report\n",
        "from sklearn.metrics import confusion_matrix\n",
        "from sklearn.utils import resample"
      ]
    },
    {
      "cell_type": "code",
      "execution_count": 40,
      "metadata": {
        "colab": {
          "base_uri": "https://localhost:8080/"
        },
        "id": "QM8KZ15FFCHL",
        "outputId": "7c635772-e994-4bd2-c3d9-a9dbcfd6f614"
      },
      "outputs": [
        {
          "output_type": "stream",
          "name": "stdout",
          "text": [
            "Drive already mounted at /content/gdrive; to attempt to forcibly remount, call drive.mount(\"/content/gdrive\", force_remount=True).\n"
          ]
        }
      ],
      "source": [
        "from google.colab import drive \n",
        "drive.mount(\"/content/gdrive\")"
      ]
    },
    {
      "cell_type": "code",
      "execution_count": 41,
      "metadata": {
        "colab": {
          "base_uri": "https://localhost:8080/",
          "height": 487
        },
        "id": "TGJzinGoFNDk",
        "outputId": "381424d7-244d-4c75-eeea-ae1d733632a6"
      },
      "outputs": [
        {
          "output_type": "execute_result",
          "data": {
            "text/plain": [
              "         step      type    amount     nameOrig  oldbalanceOrg  newbalanceOrig  \\\n",
              "0           1   PAYMENT     9,840  C1231006815        170,136         160,296   \n",
              "1           1   PAYMENT     1,864  C1666544295         21,249          19,385   \n",
              "2           1  TRANSFER       181  C1305486145            181               0   \n",
              "3           1  CASH_OUT       181   C840083671            181               0   \n",
              "4           1   PAYMENT    11,668  C2048537720         41,554          29,886   \n",
              "...       ...       ...       ...          ...            ...             ...   \n",
              "6362615   743  CASH_OUT   339,682   C786484425        339,682               0   \n",
              "6362616   743  TRANSFER 6,311,409  C1529008245      6,311,409               0   \n",
              "6362617   743  CASH_OUT 6,311,409  C1162922333      6,311,409               0   \n",
              "6362618   743  TRANSFER   850,003  C1685995037        850,003               0   \n",
              "6362619   743  CASH_OUT   850,003  C1280323807        850,003               0   \n",
              "\n",
              "            nameDest  oldbalanceDest  newbalanceDest  isFraud  isFlaggedFraud  \n",
              "0        M1979787155               0               0        0               0  \n",
              "1        M2044282225               0               0        0               0  \n",
              "2         C553264065               0               0        1               0  \n",
              "3          C38997010          21,182               0        1               0  \n",
              "4        M1230701703               0               0        0               0  \n",
              "...              ...             ...             ...      ...             ...  \n",
              "6362615   C776919290               0         339,682        1               0  \n",
              "6362616  C1881841831               0               0        1               0  \n",
              "6362617  C1365125890          68,489       6,379,898        1               0  \n",
              "6362618  C2080388513               0               0        1               0  \n",
              "6362619   C873221189       6,510,099       7,360,102        1               0  \n",
              "\n",
              "[6362620 rows x 11 columns]"
            ],
            "text/html": [
              "\n",
              "  <div id=\"df-fc99c8bc-bae9-4cf8-865f-bf24be7d04d7\">\n",
              "    <div class=\"colab-df-container\">\n",
              "      <div>\n",
              "<style scoped>\n",
              "    .dataframe tbody tr th:only-of-type {\n",
              "        vertical-align: middle;\n",
              "    }\n",
              "\n",
              "    .dataframe tbody tr th {\n",
              "        vertical-align: top;\n",
              "    }\n",
              "\n",
              "    .dataframe thead th {\n",
              "        text-align: right;\n",
              "    }\n",
              "</style>\n",
              "<table border=\"1\" class=\"dataframe\">\n",
              "  <thead>\n",
              "    <tr style=\"text-align: right;\">\n",
              "      <th></th>\n",
              "      <th>step</th>\n",
              "      <th>type</th>\n",
              "      <th>amount</th>\n",
              "      <th>nameOrig</th>\n",
              "      <th>oldbalanceOrg</th>\n",
              "      <th>newbalanceOrig</th>\n",
              "      <th>nameDest</th>\n",
              "      <th>oldbalanceDest</th>\n",
              "      <th>newbalanceDest</th>\n",
              "      <th>isFraud</th>\n",
              "      <th>isFlaggedFraud</th>\n",
              "    </tr>\n",
              "  </thead>\n",
              "  <tbody>\n",
              "    <tr>\n",
              "      <th>0</th>\n",
              "      <td>1</td>\n",
              "      <td>PAYMENT</td>\n",
              "      <td>9,840</td>\n",
              "      <td>C1231006815</td>\n",
              "      <td>170,136</td>\n",
              "      <td>160,296</td>\n",
              "      <td>M1979787155</td>\n",
              "      <td>0</td>\n",
              "      <td>0</td>\n",
              "      <td>0</td>\n",
              "      <td>0</td>\n",
              "    </tr>\n",
              "    <tr>\n",
              "      <th>1</th>\n",
              "      <td>1</td>\n",
              "      <td>PAYMENT</td>\n",
              "      <td>1,864</td>\n",
              "      <td>C1666544295</td>\n",
              "      <td>21,249</td>\n",
              "      <td>19,385</td>\n",
              "      <td>M2044282225</td>\n",
              "      <td>0</td>\n",
              "      <td>0</td>\n",
              "      <td>0</td>\n",
              "      <td>0</td>\n",
              "    </tr>\n",
              "    <tr>\n",
              "      <th>2</th>\n",
              "      <td>1</td>\n",
              "      <td>TRANSFER</td>\n",
              "      <td>181</td>\n",
              "      <td>C1305486145</td>\n",
              "      <td>181</td>\n",
              "      <td>0</td>\n",
              "      <td>C553264065</td>\n",
              "      <td>0</td>\n",
              "      <td>0</td>\n",
              "      <td>1</td>\n",
              "      <td>0</td>\n",
              "    </tr>\n",
              "    <tr>\n",
              "      <th>3</th>\n",
              "      <td>1</td>\n",
              "      <td>CASH_OUT</td>\n",
              "      <td>181</td>\n",
              "      <td>C840083671</td>\n",
              "      <td>181</td>\n",
              "      <td>0</td>\n",
              "      <td>C38997010</td>\n",
              "      <td>21,182</td>\n",
              "      <td>0</td>\n",
              "      <td>1</td>\n",
              "      <td>0</td>\n",
              "    </tr>\n",
              "    <tr>\n",
              "      <th>4</th>\n",
              "      <td>1</td>\n",
              "      <td>PAYMENT</td>\n",
              "      <td>11,668</td>\n",
              "      <td>C2048537720</td>\n",
              "      <td>41,554</td>\n",
              "      <td>29,886</td>\n",
              "      <td>M1230701703</td>\n",
              "      <td>0</td>\n",
              "      <td>0</td>\n",
              "      <td>0</td>\n",
              "      <td>0</td>\n",
              "    </tr>\n",
              "    <tr>\n",
              "      <th>...</th>\n",
              "      <td>...</td>\n",
              "      <td>...</td>\n",
              "      <td>...</td>\n",
              "      <td>...</td>\n",
              "      <td>...</td>\n",
              "      <td>...</td>\n",
              "      <td>...</td>\n",
              "      <td>...</td>\n",
              "      <td>...</td>\n",
              "      <td>...</td>\n",
              "      <td>...</td>\n",
              "    </tr>\n",
              "    <tr>\n",
              "      <th>6362615</th>\n",
              "      <td>743</td>\n",
              "      <td>CASH_OUT</td>\n",
              "      <td>339,682</td>\n",
              "      <td>C786484425</td>\n",
              "      <td>339,682</td>\n",
              "      <td>0</td>\n",
              "      <td>C776919290</td>\n",
              "      <td>0</td>\n",
              "      <td>339,682</td>\n",
              "      <td>1</td>\n",
              "      <td>0</td>\n",
              "    </tr>\n",
              "    <tr>\n",
              "      <th>6362616</th>\n",
              "      <td>743</td>\n",
              "      <td>TRANSFER</td>\n",
              "      <td>6,311,409</td>\n",
              "      <td>C1529008245</td>\n",
              "      <td>6,311,409</td>\n",
              "      <td>0</td>\n",
              "      <td>C1881841831</td>\n",
              "      <td>0</td>\n",
              "      <td>0</td>\n",
              "      <td>1</td>\n",
              "      <td>0</td>\n",
              "    </tr>\n",
              "    <tr>\n",
              "      <th>6362617</th>\n",
              "      <td>743</td>\n",
              "      <td>CASH_OUT</td>\n",
              "      <td>6,311,409</td>\n",
              "      <td>C1162922333</td>\n",
              "      <td>6,311,409</td>\n",
              "      <td>0</td>\n",
              "      <td>C1365125890</td>\n",
              "      <td>68,489</td>\n",
              "      <td>6,379,898</td>\n",
              "      <td>1</td>\n",
              "      <td>0</td>\n",
              "    </tr>\n",
              "    <tr>\n",
              "      <th>6362618</th>\n",
              "      <td>743</td>\n",
              "      <td>TRANSFER</td>\n",
              "      <td>850,003</td>\n",
              "      <td>C1685995037</td>\n",
              "      <td>850,003</td>\n",
              "      <td>0</td>\n",
              "      <td>C2080388513</td>\n",
              "      <td>0</td>\n",
              "      <td>0</td>\n",
              "      <td>1</td>\n",
              "      <td>0</td>\n",
              "    </tr>\n",
              "    <tr>\n",
              "      <th>6362619</th>\n",
              "      <td>743</td>\n",
              "      <td>CASH_OUT</td>\n",
              "      <td>850,003</td>\n",
              "      <td>C1280323807</td>\n",
              "      <td>850,003</td>\n",
              "      <td>0</td>\n",
              "      <td>C873221189</td>\n",
              "      <td>6,510,099</td>\n",
              "      <td>7,360,102</td>\n",
              "      <td>1</td>\n",
              "      <td>0</td>\n",
              "    </tr>\n",
              "  </tbody>\n",
              "</table>\n",
              "<p>6362620 rows × 11 columns</p>\n",
              "</div>\n",
              "      <button class=\"colab-df-convert\" onclick=\"convertToInteractive('df-fc99c8bc-bae9-4cf8-865f-bf24be7d04d7')\"\n",
              "              title=\"Convert this dataframe to an interactive table.\"\n",
              "              style=\"display:none;\">\n",
              "        \n",
              "  <svg xmlns=\"http://www.w3.org/2000/svg\" height=\"24px\"viewBox=\"0 0 24 24\"\n",
              "       width=\"24px\">\n",
              "    <path d=\"M0 0h24v24H0V0z\" fill=\"none\"/>\n",
              "    <path d=\"M18.56 5.44l.94 2.06.94-2.06 2.06-.94-2.06-.94-.94-2.06-.94 2.06-2.06.94zm-11 1L8.5 8.5l.94-2.06 2.06-.94-2.06-.94L8.5 2.5l-.94 2.06-2.06.94zm10 10l.94 2.06.94-2.06 2.06-.94-2.06-.94-.94-2.06-.94 2.06-2.06.94z\"/><path d=\"M17.41 7.96l-1.37-1.37c-.4-.4-.92-.59-1.43-.59-.52 0-1.04.2-1.43.59L10.3 9.45l-7.72 7.72c-.78.78-.78 2.05 0 2.83L4 21.41c.39.39.9.59 1.41.59.51 0 1.02-.2 1.41-.59l7.78-7.78 2.81-2.81c.8-.78.8-2.07 0-2.86zM5.41 20L4 18.59l7.72-7.72 1.47 1.35L5.41 20z\"/>\n",
              "  </svg>\n",
              "      </button>\n",
              "      \n",
              "  <style>\n",
              "    .colab-df-container {\n",
              "      display:flex;\n",
              "      flex-wrap:wrap;\n",
              "      gap: 12px;\n",
              "    }\n",
              "\n",
              "    .colab-df-convert {\n",
              "      background-color: #E8F0FE;\n",
              "      border: none;\n",
              "      border-radius: 50%;\n",
              "      cursor: pointer;\n",
              "      display: none;\n",
              "      fill: #1967D2;\n",
              "      height: 32px;\n",
              "      padding: 0 0 0 0;\n",
              "      width: 32px;\n",
              "    }\n",
              "\n",
              "    .colab-df-convert:hover {\n",
              "      background-color: #E2EBFA;\n",
              "      box-shadow: 0px 1px 2px rgba(60, 64, 67, 0.3), 0px 1px 3px 1px rgba(60, 64, 67, 0.15);\n",
              "      fill: #174EA6;\n",
              "    }\n",
              "\n",
              "    [theme=dark] .colab-df-convert {\n",
              "      background-color: #3B4455;\n",
              "      fill: #D2E3FC;\n",
              "    }\n",
              "\n",
              "    [theme=dark] .colab-df-convert:hover {\n",
              "      background-color: #434B5C;\n",
              "      box-shadow: 0px 1px 3px 1px rgba(0, 0, 0, 0.15);\n",
              "      filter: drop-shadow(0px 1px 2px rgba(0, 0, 0, 0.3));\n",
              "      fill: #FFFFFF;\n",
              "    }\n",
              "  </style>\n",
              "\n",
              "      <script>\n",
              "        const buttonEl =\n",
              "          document.querySelector('#df-fc99c8bc-bae9-4cf8-865f-bf24be7d04d7 button.colab-df-convert');\n",
              "        buttonEl.style.display =\n",
              "          google.colab.kernel.accessAllowed ? 'block' : 'none';\n",
              "\n",
              "        async function convertToInteractive(key) {\n",
              "          const element = document.querySelector('#df-fc99c8bc-bae9-4cf8-865f-bf24be7d04d7');\n",
              "          const dataTable =\n",
              "            await google.colab.kernel.invokeFunction('convertToInteractive',\n",
              "                                                     [key], {});\n",
              "          if (!dataTable) return;\n",
              "\n",
              "          const docLinkHtml = 'Like what you see? Visit the ' +\n",
              "            '<a target=\"_blank\" href=https://colab.research.google.com/notebooks/data_table.ipynb>data table notebook</a>'\n",
              "            + ' to learn more about interactive tables.';\n",
              "          element.innerHTML = '';\n",
              "          dataTable['output_type'] = 'display_data';\n",
              "          await google.colab.output.renderOutput(dataTable, element);\n",
              "          const docLink = document.createElement('div');\n",
              "          docLink.innerHTML = docLinkHtml;\n",
              "          element.appendChild(docLink);\n",
              "        }\n",
              "      </script>\n",
              "    </div>\n",
              "  </div>\n",
              "  "
            ]
          },
          "metadata": {},
          "execution_count": 41
        }
      ],
      "source": [
        "df = pd.read_csv('/content/gdrive/MyDrive/Tera/Data/fraud_detection_dataset.csv')\n",
        "df"
      ]
    },
    {
      "cell_type": "code",
      "execution_count": 42,
      "metadata": {
        "colab": {
          "base_uri": "https://localhost:8080/"
        },
        "id": "ttmwyG3WQXkb",
        "outputId": "6b1f1fd1-c66f-4dff-8866-6cf247a2d315"
      },
      "outputs": [
        {
          "output_type": "stream",
          "name": "stderr",
          "text": [
            "<ipython-input-42-07af6ba031d6>:1: FutureWarning: null_counts is deprecated. Use show_counts instead\n",
            "  df.info(null_counts= True)\n"
          ]
        },
        {
          "output_type": "stream",
          "name": "stdout",
          "text": [
            "<class 'pandas.core.frame.DataFrame'>\n",
            "RangeIndex: 6362620 entries, 0 to 6362619\n",
            "Data columns (total 11 columns):\n",
            " #   Column          Non-Null Count    Dtype  \n",
            "---  ------          --------------    -----  \n",
            " 0   step            6362620 non-null  int64  \n",
            " 1   type            6362620 non-null  object \n",
            " 2   amount          6362620 non-null  float64\n",
            " 3   nameOrig        6362620 non-null  object \n",
            " 4   oldbalanceOrg   6362620 non-null  float64\n",
            " 5   newbalanceOrig  6362620 non-null  float64\n",
            " 6   nameDest        6362620 non-null  object \n",
            " 7   oldbalanceDest  6362620 non-null  float64\n",
            " 8   newbalanceDest  6362620 non-null  float64\n",
            " 9   isFraud         6362620 non-null  int64  \n",
            " 10  isFlaggedFraud  6362620 non-null  int64  \n",
            "dtypes: float64(5), int64(3), object(3)\n",
            "memory usage: 534.0+ MB\n"
          ]
        }
      ],
      "source": [
        "df.info(null_counts= True)"
      ]
    },
    {
      "cell_type": "markdown",
      "metadata": {
        "id": "V5Dc6YDNjXvY"
      },
      "source": [
        "## 2. Analise Exploratoria \n"
      ]
    },
    {
      "cell_type": "code",
      "execution_count": 43,
      "metadata": {
        "colab": {
          "base_uri": "https://localhost:8080/",
          "height": 441
        },
        "id": "SgvygMamjiwA",
        "outputId": "e3a8275d-810a-44d5-dda6-c2fcc07e7f29"
      },
      "outputs": [
        {
          "output_type": "display_data",
          "data": {
            "text/plain": [
              "<Figure size 720x504 with 1 Axes>"
            ],
            "image/png": "[encoded data removed]"
          },
          "metadata": {
            "needs_background": "light"
          }
        }
      ],
      "source": [
        "#verificando a ditribuição da nossa variavel target \n",
        "ax = df['isFraud'].value_counts().plot(kind = 'bar',figsize = (10,7))\n",
        "ax.set_title('Distribuição da variavel Fraudes')\n",
        "for p in ax.patches: # patches pega as colunas \n",
        "  #multiplicando o tamanho da coluna por 100 e dividindo pelo tamanho da variavel isfraud\n",
        "  ax.annotate('{:.2f}%'.format(100*p.get_height()/len(df.isFraud)), (p.get_x()+ 0.18, p.get_height()))"
      ]
    },
    {
      "cell_type": "markdown",
      "metadata": {
        "id": "hVDdJ9sV_Kcx"
      },
      "source": [
        "As transações fraudulentas representão apenas 0,13% do total de transações porem mesmo com um percentual baixo podem significar um prejuizo grande."
      ]
    },
    {
      "cell_type": "code",
      "execution_count": 44,
      "metadata": {
        "colab": {
          "base_uri": "https://localhost:8080/",
          "height": 296
        },
        "id": "7DPg0XHU5LIc",
        "outputId": "86ff6c8e-b154-4e69-f66d-53be77962b89"
      },
      "outputs": [
        {
          "output_type": "execute_result",
          "data": {
            "text/plain": [
              "<matplotlib.axes._subplots.AxesSubplot at 0x7fe186067e20>"
            ]
          },
          "metadata": {},
          "execution_count": 44
        },
        {
          "output_type": "display_data",
          "data": {
            "text/plain": [
              "<Figure size 432x288 with 1 Axes>"
            ],
            "image/png": "[encoded data removed]"
          },
          "metadata": {
            "needs_background": "light"
          }
        }
      ],
      "source": [
        "#visualizando a distribuição de trodas operações por tipo de operação \n",
        "df['type'].value_counts().plot(kind = 'barh')"
      ]
    },
    {
      "cell_type": "code",
      "execution_count": 45,
      "metadata": {
        "colab": {
          "base_uri": "https://localhost:8080/",
          "height": 327
        },
        "id": "MUnXU2utOTCC",
        "outputId": "4a483248-b027-474f-d278-16e0a7f00659"
      },
      "outputs": [
        {
          "output_type": "execute_result",
          "data": {
            "text/plain": [
              "<matplotlib.axes._subplots.AxesSubplot at 0x7fe186029df0>"
            ]
          },
          "metadata": {},
          "execution_count": 45
        },
        {
          "output_type": "display_data",
          "data": {
            "text/plain": [
              "<Figure size 432x288 with 1 Axes>"
            ],
            "image/png": "[encoded data removed]"
          },
          "metadata": {
            "needs_background": "light"
          }
        }
      ],
      "source": [
        "#visualizando a distribuição entre as operaçãões com fraudes \n",
        "df[df.isFraud == 1]['type'].value_counts().plot(kind = 'bar')"
      ]
    },
    {
      "cell_type": "markdown",
      "metadata": {
        "id": "YyPhntj5Ucm0"
      },
      "source": [
        "Já é possivel perceber que só houve fraude em operações do tipo transferencia e saque "
      ]
    },
    {
      "cell_type": "code",
      "execution_count": 46,
      "metadata": {
        "colab": {
          "base_uri": "https://localhost:8080/",
          "height": 639
        },
        "id": "PNkuNnIlMNWu",
        "outputId": "cc965a68-4c7c-4fea-ffbf-d1a1facef9ad"
      },
      "outputs": [
        {
          "output_type": "execute_result",
          "data": {
            "text/plain": [
              "Text(0.5, 1.0, 'CASH_OUT')"
            ]
          },
          "metadata": {},
          "execution_count": 46
        },
        {
          "output_type": "display_data",
          "data": {
            "text/plain": [
              "<Figure size 1080x720 with 2 Axes>"
            ],
            "image/png": "[encoded data removed]"
          },
          "metadata": {
            "needs_background": "light"
          }
        }
      ],
      "source": [
        "#visualizando as operações Cash_out e TRANSFER no decorrer do mês \n",
        "plt.figure(figsize=(15,10))\n",
        "plt.subplot(2,1,1)\n",
        "df[df['type'] == 'TRANSFER'].groupby('step')['step'].count().plot()\n",
        "plt.ylabel('count')\n",
        "plt.title('TRANSFER')\n",
        "\n",
        "plt.subplot(2,1,2)\n",
        "df[df['type'] == 'CASH_OUT'].groupby('step')['step'].count().plot()\n",
        "plt.ylabel('count')\n",
        "plt.title('CASH_OUT')"
      ]
    },
    {
      "cell_type": "markdown",
      "metadata": {
        "id": "emR8arGoW0NB"
      },
      "source": [
        "É possivel perceber que existe uma movimentação grande de dinheiro ate aproximadamente o 15.º dia do mês, provavelmente por recebimento de salarios."
      ]
    },
    {
      "cell_type": "code",
      "execution_count": 47,
      "metadata": {
        "colab": {
          "base_uri": "https://localhost:8080/",
          "height": 363
        },
        "id": "ml6jFK4mrM4X",
        "outputId": "31571ec0-56a0-4895-f5f9-40480a3c79ff"
      },
      "outputs": [
        {
          "output_type": "execute_result",
          "data": {
            "text/plain": [
              "<matplotlib.axes._subplots.AxesSubplot at 0x7fe17a363d90>"
            ]
          },
          "metadata": {},
          "execution_count": 47
        },
        {
          "output_type": "display_data",
          "data": {
            "text/plain": [
              "<Figure size 1080x360 with 2 Axes>"
            ],
            "image/png": "[encoded data removed]"
          },
          "metadata": {
            "needs_background": "light"
          }
        }
      ],
      "source": [
        "#quando as transações fraudulentas ocorrem e a diferença de valor medio entre transações normais\n",
        "plt.figure(figsize =(15,5))\n",
        "plt.subplot(1,2,1)\n",
        "sns.boxplot(x = 'isFraud', y = 'step', data = df)\n",
        "plt.subplot(1,2,2)\n",
        "sns.boxplot(x = 'isFraud', y = 'amount', data = df)"
      ]
    },
    {
      "cell_type": "markdown",
      "metadata": {
        "id": "zKj-W2I92uNg"
      },
      "source": [
        "As transações fraudulentas ocorrem em sua maioria aproximadamente entre os dias 8 e 25 do Mês, e o valor medio das transações fraudulentas é maior que o das transações sem fraude."
      ]
    },
    {
      "cell_type": "code",
      "execution_count": 48,
      "metadata": {
        "colab": {
          "base_uri": "https://localhost:8080/"
        },
        "id": "JZgaCJEIoyF6",
        "outputId": "d3fd7c78-2b6b-4b11-94e7-a1125264e7ae"
      },
      "outputs": [
        {
          "output_type": "execute_result",
          "data": {
            "text/plain": [
              "(C1305486145    1\n",
              " C755286039     1\n",
              " C973279667     1\n",
              " C258213312     1\n",
              " C1640703547    1\n",
              " C1127265876    1\n",
              " C317779855     1\n",
              " C1064034527    1\n",
              " C1141104763    1\n",
              " C1966863341    1\n",
              " Name: nameOrig, dtype: int64, C1193568854    2\n",
              " C104038589     2\n",
              " C200064275     2\n",
              " C1497532505    2\n",
              " C1601170327    2\n",
              " C1655359478    2\n",
              " C2020337583    2\n",
              " C1653587362    2\n",
              " C1013511446    2\n",
              " C2129197098    2\n",
              " Name: nameDest, dtype: int64)"
            ]
          },
          "metadata": {},
          "execution_count": 48
        }
      ],
      "source": [
        "#visualizando as contas envolvidas em fraude \n",
        "df[df.isFraud == 1]['nameOrig'].value_counts()[:10],\\\n",
        "df[df.isFraud == 1]['nameDest'].value_counts()[:10]"
      ]
    },
    {
      "cell_type": "markdown",
      "metadata": {
        "id": "p3cj0CCxr7BP"
      },
      "source": [
        "Em contas de origem não encontramos mais de uma transação envolvida em fraudes, porem encontramos em algumas contas de destino mais de uma transação envolvida em fraude.\n",
        "\n",
        "Vamos olhar melhor essas contas que receberam mais de uma transação\n"
      ]
    },
    {
      "cell_type": "code",
      "execution_count": 49,
      "metadata": {
        "colab": {
          "base_uri": "https://localhost:8080/",
          "height": 423
        },
        "id": "RVurOnWkplCC",
        "outputId": "5c8afe59-fbcf-4d0f-e90b-bf91d8088d39"
      },
      "outputs": [
        {
          "output_type": "execute_result",
          "data": {
            "text/plain": [
              "                   conta  Transacoes\n",
              "C716083600    C716083600          89\n",
              "C667346055    C667346055          86\n",
              "C932583850    C932583850          82\n",
              "C766681183    C766681183          80\n",
              "C803116137    C803116137          77\n",
              "...                  ...         ...\n",
              "C2100877994  C2100877994           1\n",
              "C825722694    C825722694           1\n",
              "C195893407    C195893407           1\n",
              "C2033959349  C2033959349           1\n",
              "C2080388513  C2080388513           1\n",
              "\n",
              "[8169 rows x 2 columns]"
            ],
            "text/html": [
              "\n",
              "  <div id=\"df-46b84d7d-c79c-40ae-84e4-822ab68bc833\">\n",
              "    <div class=\"colab-df-container\">\n",
              "      <div>\n",
              "<style scoped>\n",
              "    .dataframe tbody tr th:only-of-type {\n",
              "        vertical-align: middle;\n",
              "    }\n",
              "\n",
              "    .dataframe tbody tr th {\n",
              "        vertical-align: top;\n",
              "    }\n",
              "\n",
              "    .dataframe thead th {\n",
              "        text-align: right;\n",
              "    }\n",
              "</style>\n",
              "<table border=\"1\" class=\"dataframe\">\n",
              "  <thead>\n",
              "    <tr style=\"text-align: right;\">\n",
              "      <th></th>\n",
              "      <th>conta</th>\n",
              "      <th>Transacoes</th>\n",
              "    </tr>\n",
              "  </thead>\n",
              "  <tbody>\n",
              "    <tr>\n",
              "      <th>C716083600</th>\n",
              "      <td>C716083600</td>\n",
              "      <td>89</td>\n",
              "    </tr>\n",
              "    <tr>\n",
              "      <th>C667346055</th>\n",
              "      <td>C667346055</td>\n",
              "      <td>86</td>\n",
              "    </tr>\n",
              "    <tr>\n",
              "      <th>C932583850</th>\n",
              "      <td>C932583850</td>\n",
              "      <td>82</td>\n",
              "    </tr>\n",
              "    <tr>\n",
              "      <th>C766681183</th>\n",
              "      <td>C766681183</td>\n",
              "      <td>80</td>\n",
              "    </tr>\n",
              "    <tr>\n",
              "      <th>C803116137</th>\n",
              "      <td>C803116137</td>\n",
              "      <td>77</td>\n",
              "    </tr>\n",
              "    <tr>\n",
              "      <th>...</th>\n",
              "      <td>...</td>\n",
              "      <td>...</td>\n",
              "    </tr>\n",
              "    <tr>\n",
              "      <th>C2100877994</th>\n",
              "      <td>C2100877994</td>\n",
              "      <td>1</td>\n",
              "    </tr>\n",
              "    <tr>\n",
              "      <th>C825722694</th>\n",
              "      <td>C825722694</td>\n",
              "      <td>1</td>\n",
              "    </tr>\n",
              "    <tr>\n",
              "      <th>C195893407</th>\n",
              "      <td>C195893407</td>\n",
              "      <td>1</td>\n",
              "    </tr>\n",
              "    <tr>\n",
              "      <th>C2033959349</th>\n",
              "      <td>C2033959349</td>\n",
              "      <td>1</td>\n",
              "    </tr>\n",
              "    <tr>\n",
              "      <th>C2080388513</th>\n",
              "      <td>C2080388513</td>\n",
              "      <td>1</td>\n",
              "    </tr>\n",
              "  </tbody>\n",
              "</table>\n",
              "<p>8169 rows × 2 columns</p>\n",
              "</div>\n",
              "      <button class=\"colab-df-convert\" onclick=\"convertToInteractive('df-46b84d7d-c79c-40ae-84e4-822ab68bc833')\"\n",
              "              title=\"Convert this dataframe to an interactive table.\"\n",
              "              style=\"display:none;\">\n",
              "        \n",
              "  <svg xmlns=\"http://www.w3.org/2000/svg\" height=\"24px\"viewBox=\"0 0 24 24\"\n",
              "       width=\"24px\">\n",
              "    <path d=\"M0 0h24v24H0V0z\" fill=\"none\"/>\n",
              "    <path d=\"M18.56 5.44l.94 2.06.94-2.06 2.06-.94-2.06-.94-.94-2.06-.94 2.06-2.06.94zm-11 1L8.5 8.5l.94-2.06 2.06-.94-2.06-.94L8.5 2.5l-.94 2.06-2.06.94zm10 10l.94 2.06.94-2.06 2.06-.94-2.06-.94-.94-2.06-.94 2.06-2.06.94z\"/><path d=\"M17.41 7.96l-1.37-1.37c-.4-.4-.92-.59-1.43-.59-.52 0-1.04.2-1.43.59L10.3 9.45l-7.72 7.72c-.78.78-.78 2.05 0 2.83L4 21.41c.39.39.9.59 1.41.59.51 0 1.02-.2 1.41-.59l7.78-7.78 2.81-2.81c.8-.78.8-2.07 0-2.86zM5.41 20L4 18.59l7.72-7.72 1.47 1.35L5.41 20z\"/>\n",
              "  </svg>\n",
              "      </button>\n",
              "      \n",
              "  <style>\n",
              "    .colab-df-container {\n",
              "      display:flex;\n",
              "      flex-wrap:wrap;\n",
              "      gap: 12px;\n",
              "    }\n",
              "\n",
              "    .colab-df-convert {\n",
              "      background-color: #E8F0FE;\n",
              "      border: none;\n",
              "      border-radius: 50%;\n",
              "      cursor: pointer;\n",
              "      display: none;\n",
              "      fill: #1967D2;\n",
              "      height: 32px;\n",
              "      padding: 0 0 0 0;\n",
              "      width: 32px;\n",
              "    }\n",
              "\n",
              "    .colab-df-convert:hover {\n",
              "      background-color: #E2EBFA;\n",
              "      box-shadow: 0px 1px 2px rgba(60, 64, 67, 0.3), 0px 1px 3px 1px rgba(60, 64, 67, 0.15);\n",
              "      fill: #174EA6;\n",
              "    }\n",
              "\n",
              "    [theme=dark] .colab-df-convert {\n",
              "      background-color: #3B4455;\n",
              "      fill: #D2E3FC;\n",
              "    }\n",
              "\n",
              "    [theme=dark] .colab-df-convert:hover {\n",
              "      background-color: #434B5C;\n",
              "      box-shadow: 0px 1px 3px 1px rgba(0, 0, 0, 0.15);\n",
              "      filter: drop-shadow(0px 1px 2px rgba(0, 0, 0, 0.3));\n",
              "      fill: #FFFFFF;\n",
              "    }\n",
              "  </style>\n",
              "\n",
              "      <script>\n",
              "        const buttonEl =\n",
              "          document.querySelector('#df-46b84d7d-c79c-40ae-84e4-822ab68bc833 button.colab-df-convert');\n",
              "        buttonEl.style.display =\n",
              "          google.colab.kernel.accessAllowed ? 'block' : 'none';\n",
              "\n",
              "        async function convertToInteractive(key) {\n",
              "          const element = document.querySelector('#df-46b84d7d-c79c-40ae-84e4-822ab68bc833');\n",
              "          const dataTable =\n",
              "            await google.colab.kernel.invokeFunction('convertToInteractive',\n",
              "                                                     [key], {});\n",
              "          if (!dataTable) return;\n",
              "\n",
              "          const docLinkHtml = 'Like what you see? Visit the ' +\n",
              "            '<a target=\"_blank\" href=https://colab.research.google.com/notebooks/data_table.ipynb>data table notebook</a>'\n",
              "            + ' to learn more about interactive tables.';\n",
              "          element.innerHTML = '';\n",
              "          dataTable['output_type'] = 'display_data';\n",
              "          await google.colab.output.renderOutput(dataTable, element);\n",
              "          const docLink = document.createElement('div');\n",
              "          docLink.innerHTML = docLinkHtml;\n",
              "          element.appendChild(docLink);\n",
              "        }\n",
              "      </script>\n",
              "    </div>\n",
              "  </div>\n",
              "  "
            ]
          },
          "metadata": {},
          "execution_count": 49
        }
      ],
      "source": [
        "from pandas.core.arrays.datetimelike import isin\n",
        "\n",
        "#criando uma lista com os nomes das contas de destino que possuem fraude\n",
        "destTransF = df[df.isFraud == 1]['nameDest'].value_counts().index.tolist()\n",
        "\n",
        "#criando um dataframe contendo 2 colunas uma com o nome das contas e outra com o numero de transações\n",
        "destTrans = pd.DataFrame({'conta': df.nameDest.value_counts().index.tolist(),\n",
        "                          'Transacoes': df.nameDest.value_counts()})\n",
        "\n",
        "#usando isin para fazer um dataframe que possui somente as contas com fraude \n",
        "destFraude = destTrans[destTrans['conta'].isin(destTransF)]\n",
        "\n",
        "\n",
        "#usando negaçao para reservar as contas que nao participaram de fraudes para comparação futura \n",
        "destnorm = destTrans[~destTrans['conta'].isin(destTransF)]\n",
        "\n",
        "\n",
        "destFraude"
      ]
    },
    {
      "cell_type": "markdown",
      "metadata": {
        "id": "83Qk7lxr4ART"
      },
      "source": [
        "podemos ver que muitas das contas que possuem transações fraudulentas tiveram também muitas transações normais. "
      ]
    },
    {
      "cell_type": "code",
      "execution_count": 50,
      "metadata": {
        "colab": {
          "base_uri": "https://localhost:8080/",
          "height": 462
        },
        "id": "HRxtYNjG7bVQ",
        "outputId": "a0a2ffb4-31a5-4c85-f168-5215da20f1df"
      },
      "outputs": [
        {
          "output_type": "stream",
          "name": "stderr",
          "text": [
            "/usr/local/lib/python3.8/dist-packages/seaborn/_decorators.py:36: FutureWarning: Pass the following variable as a keyword arg: x. From version 0.12, the only valid positional argument will be `data`, and passing other arguments without an explicit keyword will result in an error or misinterpretation.\n",
            "  warnings.warn(\n",
            "/usr/local/lib/python3.8/dist-packages/seaborn/_decorators.py:36: FutureWarning: Pass the following variable as a keyword arg: x. From version 0.12, the only valid positional argument will be `data`, and passing other arguments without an explicit keyword will result in an error or misinterpretation.\n",
            "  warnings.warn(\n"
          ]
        },
        {
          "output_type": "execute_result",
          "data": {
            "text/plain": [
              "Text(0.5, 1.0, 'Transações fraudulentas')"
            ]
          },
          "metadata": {},
          "execution_count": 50
        },
        {
          "output_type": "display_data",
          "data": {
            "text/plain": [
              "<Figure size 720x360 with 2 Axes>"
            ],
            "image/png": "[encoded data removed]"
          },
          "metadata": {
            "needs_background": "light"
          }
        }
      ],
      "source": [
        "#verificando se existe diferença entre as contas normais e contas que tiveram fraude\n",
        "\n",
        "plt.figure(figsize = (10,5))\n",
        "plt.subplot(1,2,1)\n",
        "sns.boxplot(destnorm['Transacoes'])\n",
        "plt.title('Transações normais')\n",
        "\n",
        "plt.subplot(1,2,2)\n",
        "sns.boxplot(destFraude['Transacoes'])\n",
        "plt.title('Transações fraudulentas')\n",
        "\n"
      ]
    },
    {
      "cell_type": "markdown",
      "metadata": {
        "id": "OzLnIeHM-XX0"
      },
      "source": [
        "é possivel perceber que as contas que praticam fraudes possuem um numero maior de transações. "
      ]
    },
    {
      "cell_type": "code",
      "execution_count": 51,
      "metadata": {
        "colab": {
          "base_uri": "https://localhost:8080/",
          "height": 578
        },
        "id": "Dc1b8NW68-lv",
        "outputId": "ac35a7b6-7aec-4c86-e5f0-8150a8ba0289"
      },
      "outputs": [
        {
          "output_type": "execute_result",
          "data": {
            "text/plain": [
              "<matplotlib.axes._subplots.AxesSubplot at 0x7fe185dd3190>"
            ]
          },
          "metadata": {},
          "execution_count": 51
        },
        {
          "output_type": "display_data",
          "data": {
            "text/plain": [
              "<Figure size 720x576 with 2 Axes>"
            ],
            "image/png": "[encoded data removed]"
          },
          "metadata": {
            "needs_background": "light"
          }
        }
      ],
      "source": [
        "# plotando o heatmap de correlação no dataset\n",
        "plt.figure(figsize=(10,8))\n",
        "sns.heatmap(\n",
        "            df.corr(),\n",
        "            vmin=-1, \n",
        "            vmax=1,\n",
        "            annot=True,\n",
        "            fmt='.2f',\n",
        "            cmap='RdBu',\n",
        "            mask=np.triu( # Faz uma matriz triangular\n",
        "            np.ones_like(df.corr()) # usando como base uma matriz de '1's, do mesmo tamanho que a matriz de correlação\n",
        "    ) # A máscara vai então 'apagar' a diagonal superior da matriz\n",
        "           )"
      ]
    },
    {
      "cell_type": "markdown",
      "metadata": {
        "id": "zVDMm2oWFGXl"
      },
      "source": [
        "As features não possuem correlação relevantes com nossa variavel target, vamos criar algumas features e ver se conseguimos melhorar isto. "
      ]
    },
    {
      "cell_type": "markdown",
      "metadata": {
        "id": "U9qcNFi-F9JY"
      },
      "source": [
        "## 3. Feature Engineering"
      ]
    },
    {
      "cell_type": "code",
      "execution_count": 52,
      "metadata": {
        "colab": {
          "base_uri": "https://localhost:8080/",
          "height": 363
        },
        "id": "6gR4uYKdMA_6",
        "outputId": "be174745-c838-4fde-ca90-c132a4c5ab35"
      },
      "outputs": [
        {
          "output_type": "execute_result",
          "data": {
            "text/plain": [
              "           step     amount  oldbalanceOrg  newbalanceOrig  oldbalanceDest  \\\n",
              "count 6,362,620  6,362,620      6,362,620       6,362,620       6,362,620   \n",
              "mean        243    179,862        833,883         855,114       1,100,702   \n",
              "std         142    603,858      2,888,243       2,924,049       3,399,180   \n",
              "min           1          0              0               0               0   \n",
              "10%          35      4,501              0               0               0   \n",
              "25%         156     13,390              0               0               0   \n",
              "50%         239     74,872         14,208               0         132,706   \n",
              "75%         335    208,721        107,315         144,258         943,037   \n",
              "99%         681  1,615,979     16,027,256      16,176,161      12,371,819   \n",
              "max         743 92,445,517     59,585,040      49,585,040     356,015,889   \n",
              "\n",
              "       newbalanceDest   isFraud  isFlaggedFraud  \n",
              "count       6,362,620 6,362,620       6,362,620  \n",
              "mean        1,224,996         0               0  \n",
              "std         3,674,129         0               0  \n",
              "min                 0         0               0  \n",
              "10%                 0         0               0  \n",
              "25%                 0         0               0  \n",
              "50%           214,661         0               0  \n",
              "75%         1,111,909         0               0  \n",
              "99%        13,137,867         0               0  \n",
              "max       356,179,279         1               1  "
            ],
            "text/html": [
              "\n",
              "  <div id=\"df-de987a5d-7fb5-4884-a3c2-309c56a62180\">\n",
              "    <div class=\"colab-df-container\">\n",
              "      <div>\n",
              "<style scoped>\n",
              "    .dataframe tbody tr th:only-of-type {\n",
              "        vertical-align: middle;\n",
              "    }\n",
              "\n",
              "    .dataframe tbody tr th {\n",
              "        vertical-align: top;\n",
              "    }\n",
              "\n",
              "    .dataframe thead th {\n",
              "        text-align: right;\n",
              "    }\n",
              "</style>\n",
              "<table border=\"1\" class=\"dataframe\">\n",
              "  <thead>\n",
              "    <tr style=\"text-align: right;\">\n",
              "      <th></th>\n",
              "      <th>step</th>\n",
              "      <th>amount</th>\n",
              "      <th>oldbalanceOrg</th>\n",
              "      <th>newbalanceOrig</th>\n",
              "      <th>oldbalanceDest</th>\n",
              "      <th>newbalanceDest</th>\n",
              "      <th>isFraud</th>\n",
              "      <th>isFlaggedFraud</th>\n",
              "    </tr>\n",
              "  </thead>\n",
              "  <tbody>\n",
              "    <tr>\n",
              "      <th>count</th>\n",
              "      <td>6,362,620</td>\n",
              "      <td>6,362,620</td>\n",
              "      <td>6,362,620</td>\n",
              "      <td>6,362,620</td>\n",
              "      <td>6,362,620</td>\n",
              "      <td>6,362,620</td>\n",
              "      <td>6,362,620</td>\n",
              "      <td>6,362,620</td>\n",
              "    </tr>\n",
              "    <tr>\n",
              "      <th>mean</th>\n",
              "      <td>243</td>\n",
              "      <td>179,862</td>\n",
              "      <td>833,883</td>\n",
              "      <td>855,114</td>\n",
              "      <td>1,100,702</td>\n",
              "      <td>1,224,996</td>\n",
              "      <td>0</td>\n",
              "      <td>0</td>\n",
              "    </tr>\n",
              "    <tr>\n",
              "      <th>std</th>\n",
              "      <td>142</td>\n",
              "      <td>603,858</td>\n",
              "      <td>2,888,243</td>\n",
              "      <td>2,924,049</td>\n",
              "      <td>3,399,180</td>\n",
              "      <td>3,674,129</td>\n",
              "      <td>0</td>\n",
              "      <td>0</td>\n",
              "    </tr>\n",
              "    <tr>\n",
              "      <th>min</th>\n",
              "      <td>1</td>\n",
              "      <td>0</td>\n",
              "      <td>0</td>\n",
              "      <td>0</td>\n",
              "      <td>0</td>\n",
              "      <td>0</td>\n",
              "      <td>0</td>\n",
              "      <td>0</td>\n",
              "    </tr>\n",
              "    <tr>\n",
              "      <th>10%</th>\n",
              "      <td>35</td>\n",
              "      <td>4,501</td>\n",
              "      <td>0</td>\n",
              "      <td>0</td>\n",
              "      <td>0</td>\n",
              "      <td>0</td>\n",
              "      <td>0</td>\n",
              "      <td>0</td>\n",
              "    </tr>\n",
              "    <tr>\n",
              "      <th>25%</th>\n",
              "      <td>156</td>\n",
              "      <td>13,390</td>\n",
              "      <td>0</td>\n",
              "      <td>0</td>\n",
              "      <td>0</td>\n",
              "      <td>0</td>\n",
              "      <td>0</td>\n",
              "      <td>0</td>\n",
              "    </tr>\n",
              "    <tr>\n",
              "      <th>50%</th>\n",
              "      <td>239</td>\n",
              "      <td>74,872</td>\n",
              "      <td>14,208</td>\n",
              "      <td>0</td>\n",
              "      <td>132,706</td>\n",
              "      <td>214,661</td>\n",
              "      <td>0</td>\n",
              "      <td>0</td>\n",
              "    </tr>\n",
              "    <tr>\n",
              "      <th>75%</th>\n",
              "      <td>335</td>\n",
              "      <td>208,721</td>\n",
              "      <td>107,315</td>\n",
              "      <td>144,258</td>\n",
              "      <td>943,037</td>\n",
              "      <td>1,111,909</td>\n",
              "      <td>0</td>\n",
              "      <td>0</td>\n",
              "    </tr>\n",
              "    <tr>\n",
              "      <th>99%</th>\n",
              "      <td>681</td>\n",
              "      <td>1,615,979</td>\n",
              "      <td>16,027,256</td>\n",
              "      <td>16,176,161</td>\n",
              "      <td>12,371,819</td>\n",
              "      <td>13,137,867</td>\n",
              "      <td>0</td>\n",
              "      <td>0</td>\n",
              "    </tr>\n",
              "    <tr>\n",
              "      <th>max</th>\n",
              "      <td>743</td>\n",
              "      <td>92,445,517</td>\n",
              "      <td>59,585,040</td>\n",
              "      <td>49,585,040</td>\n",
              "      <td>356,015,889</td>\n",
              "      <td>356,179,279</td>\n",
              "      <td>1</td>\n",
              "      <td>1</td>\n",
              "    </tr>\n",
              "  </tbody>\n",
              "</table>\n",
              "</div>\n",
              "      <button class=\"colab-df-convert\" onclick=\"convertToInteractive('df-de987a5d-7fb5-4884-a3c2-309c56a62180')\"\n",
              "              title=\"Convert this dataframe to an interactive table.\"\n",
              "              style=\"display:none;\">\n",
              "        \n",
              "  <svg xmlns=\"http://www.w3.org/2000/svg\" height=\"24px\"viewBox=\"0 0 24 24\"\n",
              "       width=\"24px\">\n",
              "    <path d=\"M0 0h24v24H0V0z\" fill=\"none\"/>\n",
              "    <path d=\"M18.56 5.44l.94 2.06.94-2.06 2.06-.94-2.06-.94-.94-2.06-.94 2.06-2.06.94zm-11 1L8.5 8.5l.94-2.06 2.06-.94-2.06-.94L8.5 2.5l-.94 2.06-2.06.94zm10 10l.94 2.06.94-2.06 2.06-.94-2.06-.94-.94-2.06-.94 2.06-2.06.94z\"/><path d=\"M17.41 7.96l-1.37-1.37c-.4-.4-.92-.59-1.43-.59-.52 0-1.04.2-1.43.59L10.3 9.45l-7.72 7.72c-.78.78-.78 2.05 0 2.83L4 21.41c.39.39.9.59 1.41.59.51 0 1.02-.2 1.41-.59l7.78-7.78 2.81-2.81c.8-.78.8-2.07 0-2.86zM5.41 20L4 18.59l7.72-7.72 1.47 1.35L5.41 20z\"/>\n",
              "  </svg>\n",
              "      </button>\n",
              "      \n",
              "  <style>\n",
              "    .colab-df-container {\n",
              "      display:flex;\n",
              "      flex-wrap:wrap;\n",
              "      gap: 12px;\n",
              "    }\n",
              "\n",
              "    .colab-df-convert {\n",
              "      background-color: #E8F0FE;\n",
              "      border: none;\n",
              "      border-radius: 50%;\n",
              "      cursor: pointer;\n",
              "      display: none;\n",
              "      fill: #1967D2;\n",
              "      height: 32px;\n",
              "      padding: 0 0 0 0;\n",
              "      width: 32px;\n",
              "    }\n",
              "\n",
              "    .colab-df-convert:hover {\n",
              "      background-color: #E2EBFA;\n",
              "      box-shadow: 0px 1px 2px rgba(60, 64, 67, 0.3), 0px 1px 3px 1px rgba(60, 64, 67, 0.15);\n",
              "      fill: #174EA6;\n",
              "    }\n",
              "\n",
              "    [theme=dark] .colab-df-convert {\n",
              "      background-color: #3B4455;\n",
              "      fill: #D2E3FC;\n",
              "    }\n",
              "\n",
              "    [theme=dark] .colab-df-convert:hover {\n",
              "      background-color: #434B5C;\n",
              "      box-shadow: 0px 1px 3px 1px rgba(0, 0, 0, 0.15);\n",
              "      filter: drop-shadow(0px 1px 2px rgba(0, 0, 0, 0.3));\n",
              "      fill: #FFFFFF;\n",
              "    }\n",
              "  </style>\n",
              "\n",
              "      <script>\n",
              "        const buttonEl =\n",
              "          document.querySelector('#df-de987a5d-7fb5-4884-a3c2-309c56a62180 button.colab-df-convert');\n",
              "        buttonEl.style.display =\n",
              "          google.colab.kernel.accessAllowed ? 'block' : 'none';\n",
              "\n",
              "        async function convertToInteractive(key) {\n",
              "          const element = document.querySelector('#df-de987a5d-7fb5-4884-a3c2-309c56a62180');\n",
              "          const dataTable =\n",
              "            await google.colab.kernel.invokeFunction('convertToInteractive',\n",
              "                                                     [key], {});\n",
              "          if (!dataTable) return;\n",
              "\n",
              "          const docLinkHtml = 'Like what you see? Visit the ' +\n",
              "            '<a target=\"_blank\" href=https://colab.research.google.com/notebooks/data_table.ipynb>data table notebook</a>'\n",
              "            + ' to learn more about interactive tables.';\n",
              "          element.innerHTML = '';\n",
              "          dataTable['output_type'] = 'display_data';\n",
              "          await google.colab.output.renderOutput(dataTable, element);\n",
              "          const docLink = document.createElement('div');\n",
              "          docLink.innerHTML = docLinkHtml;\n",
              "          element.appendChild(docLink);\n",
              "        }\n",
              "      </script>\n",
              "    </div>\n",
              "  </div>\n",
              "  "
            ]
          },
          "metadata": {},
          "execution_count": 52
        }
      ],
      "source": [
        "#visualizando os percentils das minhas features. \n",
        "pd.options.display.float_format = '{:,.0f}'.format\n",
        "df.describe(percentiles = [0.10, 0.25,0.5,0.75,0.99])"
      ]
    },
    {
      "cell_type": "code",
      "execution_count": 53,
      "metadata": {
        "id": "wj4_pXFyMW6q"
      },
      "outputs": [],
      "source": [
        "def amount_category(x):\n",
        "    if x >= 210000:\n",
        "      return('EXTREMLY HIGH')\n",
        "    elif x < 210000 and x >= 75000:\n",
        "        return('HIGH')\n",
        "    elif x < 75000 and x >= 14000:\n",
        "        return('MODERATE')\n",
        "    elif x < 14000:\n",
        "        return('LOW')\n",
        "    else:\n",
        "        return(\"EXTREMLY LOW\")\n",
        "df['amount_category'] = df.amount.apply(amount_category)"
      ]
    },
    {
      "cell_type": "code",
      "execution_count": 54,
      "metadata": {
        "colab": {
          "base_uri": "https://localhost:8080/",
          "height": 353
        },
        "id": "mUFNGC8DwXsh",
        "outputId": "aea34ef9-e5da-425f-fe80-d284c8548695"
      },
      "outputs": [
        {
          "output_type": "execute_result",
          "data": {
            "text/plain": [
              "<matplotlib.axes._subplots.AxesSubplot at 0x7fe185d3a070>"
            ]
          },
          "metadata": {},
          "execution_count": 54
        },
        {
          "output_type": "display_data",
          "data": {
            "text/plain": [
              "<Figure size 432x288 with 1 Axes>"
            ],
            "image/png": "[encoded data removed]"
          },
          "metadata": {
            "needs_background": "light"
          }
        }
      ],
      "source": [
        "df[df.isFraud == 1]['amount_category'].value_counts().plot(kind = 'bar')"
      ]
    },
    {
      "cell_type": "markdown",
      "metadata": {
        "id": "BawsO66JwiEh"
      },
      "source": [
        "Podemos ver que as operações de fraude em sua grande maioria são para valores mais altos acima de 210 mil reais. "
      ]
    },
    {
      "cell_type": "code",
      "execution_count": 55,
      "metadata": {
        "id": "sa_S8fVtgvIo"
      },
      "outputs": [],
      "source": [
        "#Olhando para a variavel step e definindo features de dias e horas \n",
        "\n",
        "df['days'] = df.step // 24 # pegando o valor absoluto da divisão para calcular o dia \n",
        "df['hours'] = df.step % 24 #pegando o resto da divisão para calcular a hora do dia sempre que o resto for 0 é meia noite"
      ]
    },
    {
      "cell_type": "code",
      "execution_count": 56,
      "metadata": {
        "colab": {
          "base_uri": "https://localhost:8080/",
          "height": 370
        },
        "id": "1vZsqPbj18_8",
        "outputId": "dade333e-649b-4c4d-ba3c-730d8a3585b0"
      },
      "outputs": [
        {
          "output_type": "execute_result",
          "data": {
            "text/plain": [
              "Text(0, 0.5, 'Numero de Transações')"
            ]
          },
          "metadata": {},
          "execution_count": 56
        },
        {
          "output_type": "display_data",
          "data": {
            "text/plain": [
              "<Figure size 936x360 with 2 Axes>"
            ],
            "image/png": "[encoded data removed]"
          },
          "metadata": {
            "needs_background": "light"
          }
        }
      ],
      "source": [
        "plt.figure(figsize = (13,5))\n",
        "plt.subplot(1,2,1)\n",
        "df[df.isFraud == 0]['hours'].value_counts().plot(kind = 'bar')\n",
        "plt.title('Transações Validas por horas do dia')\n",
        "plt.xlabel('horas do dia')\n",
        "plt.ylabel('Numero de Transações')\n",
        "plt.subplot(1,2,2)\n",
        "df[df.isFraud == 1]['hours'].value_counts().plot(kind = 'bar')\n",
        "plt.title('Transações Fraudulentas por horas do dia')\n",
        "plt.xlabel('horas do dia')\n",
        "plt.ylabel('Numero de Transações')"
      ]
    },
    {
      "cell_type": "markdown",
      "metadata": {
        "id": "S5SAILwW3QOg"
      },
      "source": [
        "Olhando para as horas das transações validas e transações fraudulentas podemos notar uma diferença, onde as transações validas não costumam ocorrer no periodo da madrugada até as 8 da manha.  já as transações fraudulentas ocorrem em qualquer horario. "
      ]
    },
    {
      "cell_type": "code",
      "execution_count": 57,
      "metadata": {
        "colab": {
          "base_uri": "https://localhost:8080/",
          "height": 370
        },
        "id": "G0UXaYgF1rcK",
        "outputId": "d332a8c7-1102-4ec5-c813-c67651b808e1"
      },
      "outputs": [
        {
          "output_type": "execute_result",
          "data": {
            "text/plain": [
              "Text(0, 0.5, 'Numero de Transações')"
            ]
          },
          "metadata": {},
          "execution_count": 57
        },
        {
          "output_type": "display_data",
          "data": {
            "text/plain": [
              "<Figure size 936x360 with 2 Axes>"
            ],
            "image/png": "[encoded data removed]"
          },
          "metadata": {
            "needs_background": "light"
          }
        }
      ],
      "source": [
        "plt.figure(figsize = (13,5))\n",
        "plt.subplot(1,2,1)\n",
        "df[df.isFraud == 0]['days'].value_counts().plot(kind = 'bar')\n",
        "plt.title('Transações Validas por  dia')\n",
        "plt.xlabel('dia do Mês')\n",
        "plt.ylabel('Numero de Transações')\n",
        "plt.subplot(1,2,2)\n",
        "df[df.isFraud == 1]['days'].value_counts().plot(kind = 'bar')\n",
        "plt.title('Transações Fraudulentas por dia')\n",
        "plt.xlabel('dia di Mês')\n",
        "plt.ylabel('Numero de Transações')"
      ]
    },
    {
      "cell_type": "markdown",
      "metadata": {
        "id": "JlMGjSOD5c4J"
      },
      "source": [
        "Como ja tinhamos visto antes o maior numero de transações validas ocorre entre a primeira quinzena do mês, ja quando olhamos para transações fraudulentas podemos ver que elas ocorrem durante o mes todo. "
      ]
    },
    {
      "cell_type": "code",
      "execution_count": 58,
      "metadata": {
        "id": "ld8pVAxc9hUt"
      },
      "outputs": [],
      "source": [
        "#trabalhar as features conta de origem e destino"
      ]
    },
    {
      "cell_type": "code",
      "execution_count": 58,
      "metadata": {
        "id": "JrKQSmkRKhbc"
      },
      "outputs": [],
      "source": []
    },
    {
      "cell_type": "markdown",
      "metadata": {
        "id": "FabMuPGZKhrL"
      },
      "source": [
        "## Pre Processamento"
      ]
    },
    {
      "cell_type": "code",
      "execution_count": 59,
      "metadata": {
        "id": "V3oXVA5pilkl"
      },
      "outputs": [],
      "source": [
        "#Fazendo o encoding \n",
        "df = pd.get_dummies(df, columns=['type','amount_category'])"
      ]
    },
    {
      "cell_type": "code",
      "execution_count": 60,
      "metadata": {
        "id": "MGN229P2W_e2"
      },
      "outputs": [],
      "source": [
        "X = df.drop(['isFraud','nameOrig','nameDest'], axis=1)\n",
        "y = df.isFraud"
      ]
    },
    {
      "cell_type": "code",
      "execution_count": 31,
      "metadata": {
        "id": "A8--0jJqYArN"
      },
      "outputs": [],
      "source": [
        "#dividindo entre treino, teste e validação. \n",
        "X_train, X_test, y_train, y_test = train_test_split(X, y, test_size = 0.2, random_state = 1603)\n",
        "X_train, X_val, y_train, y_val = train_test_split(X_train, y_train, test_size=0.2, random_state=1603)"
      ]
    },
    {
      "cell_type": "code",
      "execution_count": 32,
      "metadata": {
        "colab": {
          "base_uri": "https://localhost:8080/"
        },
        "id": "OookKwbEaXtc",
        "outputId": "5f27d4f6-cb53-48e3-9409-d61fcba54514"
      },
      "outputs": [
        {
          "output_type": "execute_result",
          "data": {
            "text/plain": [
              "((4072076, 18), (1272524, 18), (1018020, 18))"
            ]
          },
          "metadata": {},
          "execution_count": 32
        }
      ],
      "source": [
        "X_train.shape, X_test.shape, X_val.shape "
      ]
    },
    {
      "cell_type": "code",
      "source": [
        "#gerenciamento de memoria.\n",
        "import gc\n",
        "del df, X, y\n",
        "gc.collect()"
      ],
      "metadata": {
        "id": "nGcdnswbVFMx"
      },
      "execution_count": 61,
      "outputs": []
    },
    {
      "cell_type": "markdown",
      "metadata": {
        "id": "ma5n2O7CKiak"
      },
      "source": [
        "## Modelo Baseline\n",
        "Irei fazer um Random Forest sem parametros somente como base de comparação para outros modelos. "
      ]
    },
    {
      "cell_type": "code",
      "execution_count": null,
      "metadata": {
        "id": "MswcMPkNN-J2"
      },
      "outputs": [],
      "source": [
        "# Modelos de ML\n",
        "rfc = RandomForestClassifier(random_state=1603)"
      ]
    },
    {
      "cell_type": "code",
      "execution_count": null,
      "metadata": {
        "colab": {
          "base_uri": "https://localhost:8080/"
        },
        "id": "FKxe8jmlOPaZ",
        "outputId": "d02cc1a2-db6c-42d9-b141-5a3c0e0052f9"
      },
      "outputs": [
        {
          "name": "stdout",
          "output_type": "stream",
          "text": [
            "              precision    recall  f1-score   support\n",
            "\n",
            "           0       1.00      1.00      1.00   1016743\n",
            "           1       0.99      0.82      0.90      1277\n",
            "\n",
            "    accuracy                           1.00   1018020\n",
            "   macro avg       0.99      0.91      0.95   1018020\n",
            "weighted avg       1.00      1.00      1.00   1018020\n",
            "\n"
          ]
        }
      ],
      "source": [
        "rfc.fit(X_train, y_train)\n",
        "y_pred_train_rfc_baseline = rfc.predict(X_val)\n",
        "print(classification_report(y_val, y_pred_train_rfc_baseline))"
      ]
    },
    {
      "cell_type": "markdown",
      "metadata": {
        "id": "uso7qZCHY_h1"
      },
      "source": [
        "É possivel ver que a precisão do modelo em acertar quando diz que uma operação é fraudulenta esta em 99% porem esta acertando apenas 82% do numero total de operações fraudulenta, ou seja de 1277 casos de operações fraudulentas 230 não estão sendo detectadas pelo modelo. "
      ]
    },
    {
      "cell_type": "markdown",
      "metadata": {
        "id": "mx2w7ZNjggOX"
      },
      "source": [
        "## Under-sampling x Over-sampling \n",
        "\n",
        "O conjunto de dados é desbalanceado irei tentar melhorar o equilibrio e ver se o modelo desempenha melhor. "
      ]
    },
    {
      "cell_type": "markdown",
      "metadata": {
        "id": "wa4Fz_hBkb6D"
      },
      "source": [
        "### Under"
      ]
    },
    {
      "cell_type": "code",
      "source": [
        "#construindo um dataframe somente com o conjunto de treinamento para aplicar o under.\n",
        "df2 = pd.concat([X_train,y_train], axis = 1)\n",
        "df2 = df2.rename(columns={0: 'isFraud'})"
      ],
      "metadata": {
        "id": "gUTHl6bXwIp3"
      },
      "execution_count": null,
      "outputs": []
    },
    {
      "cell_type": "code",
      "execution_count": null,
      "metadata": {
        "id": "iw2Ghp36kQ7J"
      },
      "outputs": [],
      "source": [
        "# Separando o conjunto de treinamento em classe minoritária e majoritária\n",
        "df_minor = df2[df2['isFraud'] == 1]\n",
        "df_major = df2[df2['isFraud'] == 0]\n",
        "\n",
        "# Reduzindo a classe majoritária para o tamanho da classe minoritária\n",
        "df_major_downsampled = resample(df_major, \n",
        "                                 replace=False,    # Não sampleia com reposição\n",
        "                                 n_samples=len(df_minor),     # Tamanho da nova classe majoritária\n",
        "                                 random_state=1603)  \n",
        "\n",
        "# Juntando as duas classes novamente\n",
        "df_downsampled = pd.concat([df_major_downsampled, df_minor])\n",
        "\n",
        "# Atualizando as variáveis de treinamento e alvo\n",
        "X_train_Under = df_downsampled.drop(['isFraud'], axis=1)\n",
        "y_train_Under = df_downsampled['isFraud']"
      ]
    },
    {
      "cell_type": "code",
      "execution_count": null,
      "metadata": {
        "colab": {
          "base_uri": "https://localhost:8080/"
        },
        "id": "0dZ83hNcmkhX",
        "outputId": "0232ae2b-03b2-418b-a395-311d888ba04c"
      },
      "outputs": [
        {
          "output_type": "stream",
          "name": "stdout",
          "text": [
            "              precision    recall  f1-score   support\n",
            "\n",
            "           0       1.00      0.99      0.99   1016743\n",
            "           1       0.10      1.00      0.18      1277\n",
            "\n",
            "    accuracy                           0.99   1018020\n",
            "   macro avg       0.55      0.99      0.58   1018020\n",
            "weighted avg       1.00      0.99      0.99   1018020\n",
            "\n",
            "CPU times: user 9.12 s, sys: 30.5 ms, total: 9.15 s\n",
            "Wall time: 9.17 s\n"
          ]
        }
      ],
      "source": [
        "%%time\n",
        "rfc.fit(X_train_Under, y_train_Under)\n",
        "y_pred_train_rfc_Under = rfc.predict(X_val)\n",
        "print(classification_report(y_val, y_pred_train_rfc_Under))"
      ]
    },
    {
      "cell_type": "code",
      "execution_count": null,
      "metadata": {
        "colab": {
          "base_uri": "https://localhost:8080/",
          "height": 276
        },
        "id": "1N2pvubPwp77",
        "outputId": "952ee619-54cc-4622-8469-571668580f74"
      },
      "outputs": [
        {
          "data": {
            "image/png": "[encoded data removed]",
            "text/plain": [
              "<Figure size 432x288 with 2 Axes>"
            ]
          },
          "metadata": {},
          "output_type": "display_data"
        }
      ],
      "source": [
        "# criando a matriz de confusão para o modelo Random Forest com undersampled\n",
        "ax = sns.heatmap(confusion_matrix(y_val, y_pred_train_rfc_Under),\n",
        "                 annot=True,\n",
        "                 fmt = 'd',\n",
        "                 cmap = 'Blues')"
      ]
    },
    {
      "cell_type": "markdown",
      "metadata": {
        "id": "hBxWDO1xtub-"
      },
      "source": [
        "Fica claro que o Under não funcionou bem para o nosso problema, por mais que o modelo tenha conseguido detectar todos os casos de fraude ele acusou **11998** operações que não eram fraude como fraude, derrubando nossa precisão e não sendo utilizavel para este problema. "
      ]
    },
    {
      "cell_type": "markdown",
      "metadata": {
        "id": "xfyqT5AdwT4s"
      },
      "source": [
        "### Over"
      ]
    },
    {
      "cell_type": "code",
      "execution_count": null,
      "metadata": {
        "id": "OkOmoHzxtejk"
      },
      "outputs": [],
      "source": [
        "from imblearn.over_sampling import SMOTE\n",
        "\n",
        "# Instanciando o SMOTE\n",
        "smote = SMOTE(sampling_strategy='minority', random_state=1603)\n",
        "\n",
        "# Aplicando o SMOTE aos dados de treinamento\n",
        "X_train_SMOTE, y_train_SMOTE = smote.fit_resample(X_train, y_train)"
      ]
    },
    {
      "cell_type": "code",
      "execution_count": null,
      "metadata": {
        "colab": {
          "base_uri": "https://localhost:8080/"
        },
        "id": "vx3RDFGBx8WN",
        "outputId": "d02d77d4-c420-4b54-b7dd-2a24d9ee4d70"
      },
      "outputs": [
        {
          "output_type": "execute_result",
          "data": {
            "text/plain": [
              "((4072076, 18), (8133646, 18))"
            ]
          },
          "metadata": {},
          "execution_count": 28
        }
      ],
      "source": [
        "X_train.shape, X_train_SMOTE.shape"
      ]
    },
    {
      "cell_type": "code",
      "execution_count": null,
      "metadata": {
        "colab": {
          "background_save": true
        },
        "id": "HeQcFlAnxvfR",
        "outputId": "640cf09b-118a-4744-8306-525b914ae3a2"
      },
      "outputs": [
        {
          "name": "stdout",
          "output_type": "stream",
          "text": [
            "              precision    recall  f1-score   support\n",
            "\n",
            "           0       1.00      1.00      1.00   1016743\n",
            "           1       0.74      0.92      0.82      1277\n",
            "\n",
            "    accuracy                           1.00   1018020\n",
            "   macro avg       0.87      0.96      0.91   1018020\n",
            "weighted avg       1.00      1.00      1.00   1018020\n",
            "\n",
            "CPU times: user 55min 55s, sys: 33.1 s, total: 56min 28s\n",
            "Wall time: 56min 33s\n"
          ]
        }
      ],
      "source": [
        "%%time\n",
        "rfc.fit(X_train_SMOTE, y_train_SMOTE)\n",
        "y_pred_train_rfc_Over = rfc.predict(X_val)\n",
        "print(classification_report(y_val, y_pred_train_rfc_Over))"
      ]
    },
    {
      "cell_type": "markdown",
      "metadata": {
        "id": "_fIQgtxDMF8Q"
      },
      "source": [
        "Note que para rodar esse modelo levou quase 1 hora, e que começa a ficar custoso fazer analises mais extensivas "
      ]
    },
    {
      "cell_type": "code",
      "execution_count": null,
      "metadata": {
        "id": "7GkPgLfRMD2f",
        "colab": {
          "base_uri": "https://localhost:8080/",
          "height": 276
        },
        "outputId": "53d6704b-8153-4816-d345-ab715d7d3c1f"
      },
      "outputs": [
        {
          "output_type": "display_data",
          "data": {
            "text/plain": [
              "<Figure size 432x288 with 2 Axes>"
            ],
            "image/png": "[encoded data removed]"
          },
          "metadata": {
            "needs_background": "light"
          }
        }
      ],
      "source": [
        "# criando a matriz de confusão para o modelo Random Forest com Oversampled\n",
        "ax = sns.heatmap(confusion_matrix(y_val, y_pred_train_rfc_Over),\n",
        "                 annot=True,\n",
        "                 fmt = 'd',\n",
        "                 cmap = 'Blues')"
      ]
    },
    {
      "cell_type": "markdown",
      "source": [
        "O metodo de OverSampling comparado com nosso modelo baseline conseguiu melhorar o nosso recall e detectar mais fraudes ao custo de acusar quase 400 transações a mais que não são fraudes como fraudes. acredito que ainda de para melhorar este trade-off "
      ],
      "metadata": {
        "id": "Tt8YNRTN2sJv"
      }
    },
    {
      "cell_type": "markdown",
      "source": [
        "### Undersampling com ClusterCentroids "
      ],
      "metadata": {
        "id": "5r-oyLysWl0I"
      }
    },
    {
      "cell_type": "code",
      "source": [
        "from imblearn.under_sampling import ClusterCentroids\n",
        "\n",
        "# Criando um objeto ClusterCentroids\n",
        "cc = ClusterCentroids(random_state=1603)\n",
        "\n",
        "# Ajustando e transformando os dados de treinamento\n",
        "X_resampled, y_resampled = cc.fit_resample(X_train, y_train)"
      ],
      "metadata": {
        "id": "v9CWWPQAHQo2"
      },
      "execution_count": null,
      "outputs": []
    }
  ],
  "metadata": {
    "colab": {
      "provenance": [],
      "authorship_tag": "ABX9TyOqJZV2nxIkduLNYr5ELvkD",
      "include_colab_link": true
    },
    "kernelspec": {
      "display_name": "Python 3",
      "name": "python3"
    },
    "language_info": {
      "name": "python"
    },
    "gpuClass": "standard",
    "accelerator": "TPU"
  },
  "nbformat": 4,
  "nbformat_minor": 0
}